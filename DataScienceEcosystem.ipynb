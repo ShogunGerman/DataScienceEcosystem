{
 "cells": [
  {
   "cell_type": "markdown",
   "id": "b2ceaab5",
   "metadata": {},
   "source": [
    "# Exercise 2: Create markdown cell with title of the notebook\n",
    "\n",
    "# Data Science Tools and Ecosystem"
   ]
  },
  {
   "cell_type": "markdown",
   "id": "d9e81fa5",
   "metadata": {},
   "source": [
    "# Exercise 3 - Create a markdown cell for an introduction\n",
    "\n",
    "### In this notebook, I will include a comment in H1 with the exercise number and its description. Additionally, I will do the task we are asked to perform in the same markdown\n",
    "\n"
   ]
  },
  {
   "cell_type": "markdown",
   "id": "51b81df3",
   "metadata": {},
   "source": [
    "# Exercise 10 - Insert a markdown cell to list Objectives\n",
    "\n",
    "**Objectives:**\n",
    "\n",
    "- List popular languages for Data Science.\n",
    "- List Data Science libraries\n",
    "- Table of Data Science tools\n",
    "- Introducing arithmetic expression examples\n",
    "- Convert minutes to hours\n"
   ]
  },
  {
   "cell_type": "markdown",
   "id": "edd98fa5",
   "metadata": {},
   "source": [
    "# Exercise 4 - Create a markdown cell to list data science languages\n",
    "\n",
    "### Some of the popular languages that we learnt during the second course of IBM Data Scientists on Coursera that we use are the following items:\n",
    "\n",
    "1. **Python:** Used for its simplicity and a rich ecosystem of libraries such as NumPy and Pandas.\n",
    "\n",
    "2. **R:** Commonly used for statistical analysis and visualization.\n",
    "\n",
    "3. **SQL:** Essential for database management and querying."
   ]
  },
  {
   "cell_type": "markdown",
   "id": "213bff24",
   "metadata": {},
   "source": [
    "# Exercise 5 - Create a markdown cell to list data science libraries\n",
    "\n",
    "### Some of the commonly used libraries by Data Scientists include:\n",
    "\n",
    "1. **NumPy:** A powerful library for numerical computations on Python.\n",
    "\n",
    "2. **Pandas:** Widely used for data manipulation and analysis.\n",
    "\n",
    "3. **TensorFlow:** An open-source machine learning framework developed by Google. "
   ]
  },
  {
   "cell_type": "markdown",
   "id": "dbe4a2eb",
   "metadata": {},
   "source": [
    "# Exercise 6 - Create a markdown cell with a table of Data Science tools\n",
    "\n",
    "\n",
    "| Data Science Tools |\n",
    "| ------------------ |\n",
    "| Jupyter Notebooks  |\n",
    "| RStudio            |\n",
    "| VSCode             |"
   ]
  },
  {
   "cell_type": "markdown",
   "id": "9842274f",
   "metadata": {},
   "source": [
    "# Exercise 7 - Create a markdown cell introducing arithmetic expression examples\n",
    "\n",
    "### Below are a few examples of evaluating arithmetic expressions in Python.\n",
    "\n",
    "1. **Sum**\n",
    "   In this example, we sum 1 plus 1.\n",
    "   \n",
    "   result = 1 + 1\n",
    "\n",
    "2. **Minus**\n",
    "   In this example, we perform 2 minus 1\n",
    "   \n",
    "   result = 2 - 1\n",
    "   \n",
    "3. **Multiplication**\n",
    "   In this example, we are going to do 3 times 2\n",
    "   \n",
    "   result = 2 x 3\n",
    "    "
   ]
  },
  {
   "cell_type": "code",
   "execution_count": 16,
   "id": "f2066a9a",
   "metadata": {},
   "outputs": [
    {
     "data": {
      "text/plain": [
       "17"
      ]
     },
     "execution_count": 16,
     "metadata": {},
     "output_type": "execute_result"
    }
   ],
   "source": [
    "# Exercise 8 - Create a code cell to multiply and add numbers\n",
    "\n",
    "### This is a simple arithmetic expression to multiply then add integers.\n",
    "\n",
    "(3 * 4) + 5\n"
   ]
  },
  {
   "cell_type": "code",
   "execution_count": 20,
   "id": "9798d713",
   "metadata": {},
   "outputs": [
    {
     "data": {
      "text/plain": [
       "3.3333333333333335"
      ]
     },
     "execution_count": 20,
     "metadata": {},
     "output_type": "execute_result"
    }
   ],
   "source": [
    "# Exercise 9 - Create a code cell to convert minutes to hours\n",
    "\n",
    "### This will convert 200 minutes to hours by diving by 60\n",
    "\n",
    "##### if 60 minutes are an hour. Then,we are able to proceed with the convertion. 200 [min/hour] / 60 [min]. \n",
    "##### The result will be expressed as an hour format\n",
    "\n",
    "200 / 60\n",
    "\n",
    "\n"
   ]
  },
  {
   "cell_type": "markdown",
   "id": "ab28010b",
   "metadata": {},
   "source": [
    "# Exercise 11 - Create a markdown cell to indicate the Author's name\n",
    "\n",
    "## Author\n",
    "German Fuentes"
   ]
  }
 ],
 "metadata": {
  "kernelspec": {
   "display_name": "Python 3 (ipykernel)",
   "language": "python",
   "name": "python3"
  },
  "language_info": {
   "codemirror_mode": {
    "name": "ipython",
    "version": 3
   },
   "file_extension": ".py",
   "mimetype": "text/x-python",
   "name": "python",
   "nbconvert_exporter": "python",
   "pygments_lexer": "ipython3",
   "version": "3.11.5"
  }
 },
 "nbformat": 4,
 "nbformat_minor": 5
}
